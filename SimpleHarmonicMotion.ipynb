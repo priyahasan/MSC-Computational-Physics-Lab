{
  "cells": [
    {
      "cell_type": "markdown",
      "metadata": {
        "id": "Q6lwmi1bLGlz"
      },
      "source": [
        "## Study of Simple Harmonic Motion using Euler's Method\n",
        "\n",
        "This notebook demonstrates how to simulate simple harmonic motion (SHM) using Euler's numerical method."
      ]
    },
    {
      "cell_type": "markdown",
      "metadata": {
        "id": "xYbdyj3uI69h"
      },
      "source": [
        "## Theory\n",
        "Simple harmonic motion is described by the differential equation:\n",
        "\n",
        "$ \\frac{d^2x}{dt^2} = -\\omega^2 x $\n",
        "\n",
        "where:\n",
        "$  (-x )$ is the displacement from equilibrium\n",
        "$ \\omega $ is the angular frequency ($ \\omega = \\sqrt{k/m} $ for a spring-mass system)\n",
        "\n",
        "We can break this second-order ODE into two first-order equations:\n",
        "\n",
        "1. $ \\frac{dx}{dt} = v $\n",
        "2. $ \\frac{dv}{dt} = -\\omega^2 x $\n",
        "\n",
        "Euler's method approximates the solution by:\n",
        "\n",
        "1. $ x_{n+1} = x_n + v_n \\cdot \\Delta t $\n",
        "2. $ v_{n+1} = v_n + (-\\omega^2 x_n) \\cdot \\Delta t $"
      ]
    },
    {
      "cell_type": "markdown",
      "metadata": {
        "id": "CYk2U8dkJLip"
      },
      "source": [
        "## Implementation"
      ]
    },
    {
      "cell_type": "code",
      "execution_count": null,
      "metadata": {
        "id": "yYDPrFglIqtm"
      },
      "outputs": [],
      "source": [
        "import numpy as np\n",
        "import matplotlib.pyplot as plt\n",
        "from IPython.display import display, Markdown"
      ]
    },
    {
      "cell_type": "code",
      "execution_count": null,
      "metadata": {
        "id": "w4AxNfpuO45t"
      },
      "outputs": [],
      "source": [
        "# Parameters\n",
        "omega = 2.0  # angular frequency (rad/s)\n",
        "x0 = 1.0     # initial displacement (m)\n",
        "v0 = 0.0     # initial velocity (m/s)\n",
        "t_max = 10.0  # total simulation time (s)\n",
        "dt = 0.01    # time step (s)\n",
        "\n",
        "# Calculate the theoretical period for comparison\n",
        "period = 2 * np.pi / omega\n",
        "display(Markdown(f\"Theoretical period: $T = {period:.3f}$ s\"))"
      ]
    },
    {
      "cell_type": "code",
      "execution_count": null,
      "metadata": {
        "id": "lT4Kh93POHVk"
      },
      "outputs": [],
      "source": [
        "# Initialize arrays\n",
        "n_steps = int(t_max / dt) + 1\n",
        "time = np.linspace(0, t_max, n_steps)\n",
        "x = np.zeros(n_steps)\n",
        "v = np.zeros(n_steps)\n",
        "\n",
        "# Set initial conditions\n",
        "x[0] = x0\n",
        "v[0] = v0"
      ]
    },
    {
      "cell_type": "code",
      "execution_count": null,
      "metadata": {
        "id": "4usj6Ul3OOUB"
      },
      "outputs": [],
      "source": [
        "# Euler's method integration\n",
        "for i in range(n_steps - 1):\n",
        "    x[i+1] = x[i] + v[i] * dt\n",
        "    v[i+1] = v[i] + (-omega**2 * x[i]) * dt\n",
        "\n",
        "# %%\n",
        "# Theoretical solution for comparison\n",
        "x_theory = x0 * np.cos(omega * time)\n",
        "v_theory = -x0 * omega * np.sin(omega * time)"
      ]
    },
    {
      "cell_type": "markdown",
      "metadata": {
        "id": "KyFEMnQWKO1d"
      },
      "source": [
        "## Analysis of Numerical Error"
      ]
    },
    {
      "cell_type": "code",
      "execution_count": null,
      "metadata": {
        "id": "A9fx_UCVIq4F"
      },
      "outputs": [],
      "source": [
        "# Plotting\n",
        "plt.figure(figsize=(12, 8))\n",
        "\n",
        "# Position plot\n",
        "plt.subplot(2, 1, 1)\n",
        "plt.plot(time, x, label='Euler method')\n",
        "plt.plot(time, x_theory, '--', label='Theoretical solution')\n",
        "plt.xlabel('Time (s)')\n",
        "plt.ylabel('Displacement (m)')\n",
        "plt.title('Simple Harmonic Motion - Position')\n",
        "plt.legend()\n",
        "plt.grid(True)\n",
        "\n",
        "# Velocity plot\n",
        "plt.subplot(2, 1, 2)\n",
        "plt.plot(time, v, label='Euler method')\n",
        "plt.plot(time, v_theory, '--', label='Theoretical solution')\n",
        "plt.xlabel('Time (s)')\n",
        "plt.ylabel('Velocity (m/s)')\n",
        "plt.title('Simple Harmonic Motion - Velocity')\n",
        "plt.legend()\n",
        "plt.grid(True)\n",
        "\n",
        "plt.tight_layout()\n",
        "plt.show()"
      ]
    },
    {
      "cell_type": "markdown",
      "metadata": {
        "id": "A3QmXp-oJ--R"
      },
      "source": []
    },
    {
      "cell_type": "code",
      "execution_count": null,
      "metadata": {
        "id": "8NV4-TufIrCU"
      },
      "outputs": [],
      "source": [
        "# Energy calculations\n",
        "# Total energy should be conserved in SHM: E = 0.5*k*x^2 + 0.5*m*v^2\n",
        "# Since omega^2 = k/m, we can express energy as: E = 0.5*m*(omega^2*x^2 + v^2)\n",
        "# We'll ignore the mass factor (set m=1) since we're interested in relative energy changes\n",
        "\n",
        "energy_euler = 0.5 * (omega**2 * x**2 + v**2)\n",
        "energy_theory = 0.5 * (omega**2 * x_theory**2 + v_theory**2)\n",
        "\n",
        "plt.figure(figsize=(10, 5))\n",
        "plt.plot(time, energy_euler, label='Euler method')\n",
        "plt.plot(time, energy_theory, '--', label='Theoretical (constant)')\n",
        "plt.xlabel('Time (s)')\n",
        "plt.ylabel('Energy (arbitrary units)')\n",
        "plt.title('Total Energy in the System')\n",
        "plt.legend()\n",
        "plt.grid(True)\n",
        "plt.show()"
      ]
    },
    {
      "cell_type": "code",
      "execution_count": null,
      "metadata": {
        "id": "wAZr5Bn_IXrL"
      },
      "outputs": [],
      "source": [
        "# Calculate and plot the error over time\n",
        "x_error = np.abs(x - x_theory)\n",
        "v_error = np.abs(v - v_theory)\n",
        "\n",
        "plt.figure(figsize=(12, 5))\n",
        "plt.subplot(1, 2, 1)\n",
        "plt.plot(time, x_error)\n",
        "plt.xlabel('Time (s)')\n",
        "plt.ylabel('Absolute error in position (m)')\n",
        "plt.title('Position Error')\n",
        "plt.grid(True)\n",
        "\n",
        "plt.subplot(1, 2, 2)\n",
        "plt.plot(time, v_error)\n",
        "plt.xlabel('Time (s)')\n",
        "plt.ylabel('Absolute error in velocity (m/s)')\n",
        "plt.title('Velocity Error')\n",
        "plt.grid(True)\n",
        "\n",
        "plt.tight_layout()\n",
        "plt.show()\n",
        "\n"
      ]
    },
    {
      "cell_type": "code",
      "execution_count": null,
      "metadata": {
        "id": "HDsFn4DmPryW"
      },
      "outputs": [],
      "source": [
        "# Exploring the Effect of Time Step\n",
        "\n",
        "# Test different time steps\n",
        "\n",
        "time_steps = [0.1, 0.05, 0.01, 0.005]\n",
        "colors = ['r', 'g', 'b', 'm']\n",
        "\n",
        "plt.figure(figsize=(10, 6))\n",
        "for dt, color in zip(time_steps, colors):\n",
        "    n_steps = int(t_max / dt) + 1\n",
        "    time = np.linspace(0, t_max, n_steps)\n",
        "    x = np.zeros(n_steps)\n",
        "    v = np.zeros(n_steps)\n",
        "\n",
        "    x[0] = x0\n",
        "    v[0] = v0\n",
        "\n",
        "    for i in range(n_steps - 1):\n",
        "        x[i+1] = x[i] + v[i] * dt\n",
        "        v[i+1] = v[i] + (-omega**2 * x[i]) * dt\n",
        "\n",
        "    x_theory = x0 * np.cos(omega * time)\n",
        "    error = np.abs(x - x_theory).max()\n",
        "\n",
        "    plt.plot(time, x, color, label=f'dt={dt} (max error={error:.4f})')\n",
        "\n",
        "plt.plot(time, x_theory, 'k--', label='Theoretical')\n",
        "plt.xlabel('Time (s)')\n",
        "plt.ylabel('Displacement (m)')\n",
        "plt.title('Effect of Time Step on Solution Accuracy')\n",
        "plt.legend()\n",
        "plt.grid(True)\n",
        "plt.show()"
      ]
    },
    {
      "cell_type": "markdown",
      "metadata": {
        "id": "51_PBTPOP3a2"
      },
      "source": [
        "### Conclusion\n",
        "\n",
        "This simulation demonstrates:\n",
        "1. Euler's method can approximate simple harmonic motion, but accumulates error over time\n",
        "2. The energy in the system grows artificially with Euler's method (not physically realistic)\n",
        "3. Smaller time steps reduce the error but require more computation\n",
        "\n",
        "For better results with SHM, consider:\n",
        "- Using a more accurate method (like Runge-Kutta)\n",
        "- Using a symplectic integrator that conserves energy\n",
        "- Implementing the Euler-Cromer method (semi-implicit Euler) which performs better for oscillatory systems"
      ]
    },
    {
      "cell_type": "code",
      "execution_count": null,
      "metadata": {
        "id": "XHrQ1z_Vbr-U"
      },
      "outputs": [],
      "source": [
        "import numpy as np\n",
        "import matplotlib.pyplot as plt\n",
        "from matplotlib.animation import FuncAnimation\n",
        "from matplotlib.patches import Circle\n",
        "\n",
        "# Pendulum parameters\n",
        "g = 9.81  # acceleration due to gravity (m/s^2)\n",
        "L = 1.0   # length of pendulum (m)\n",
        "theta0 = np.radians(30)  # initial angle (radians)\n",
        "omega0 = 0.0             # initial angular velocity (rad/s)\n",
        "\n",
        "# Simulation parameters\n",
        "t_max = 10.0  # simulation time (s)\n",
        "dt = 0.02     # time step (s)\n",
        "\n",
        "# Calculate the theoretical period for small angles\n",
        "period = 2 * np.pi * np.sqrt(L / g)\n",
        "print(f\"Theoretical period for small angles: {period:.2f} s\")\n",
        "\n",
        "# Initialize arrays\n",
        "n_steps = int(t_max / dt) + 1\n",
        "time = np.linspace(0, t_max, n_steps)\n",
        "theta = np.zeros(n_steps)\n",
        "omega = np.zeros(n_steps)\n",
        "\n",
        "# Set initial conditions\n",
        "theta[0] = theta0\n",
        "omega[0] = omega0\n",
        "\n",
        "# Numerical solution using Euler's method\n",
        "for i in range(n_steps - 1):\n",
        "    omega[i+1] = omega[i] - (g / L) * np.sin(theta[i]) * dt\n",
        "    theta[i+1] = theta[i] + omega[i+1] * dt\n",
        "\n",
        "# Small angle approximation solution\n",
        "theta_small = theta0 * np.cos(np.sqrt(g / L) * time)\n",
        "\n",
        "# Convert to Cartesian coordinates for visualization\n",
        "def pendulum_position(theta):\n",
        "    return L * np.sin(theta), -L * np.cos(theta)  # negative for y to point down\n",
        "\n",
        "x, y = pendulum_position(theta)\n",
        "x_small, y_small = pendulum_position(theta_small)\n",
        "\n",
        "# Set up the figure and axis\n",
        "fig, ax = plt.subplots(figsize=(10, 8))\n",
        "ax.set_xlim(-1.2 * L, 1.2 * L)\n",
        "ax.set_ylim(-1.2 * L, 0.2 * L)\n",
        "ax.set_aspect('equal')\n",
        "ax.grid()\n",
        "\n",
        "# Create pendulum components\n",
        "line, = ax.plot([], [], 'k-', lw=2)  # pendulum rod\n",
        "bob = Circle((0, 0), 0.05, fc='b')  # pendulum bob\n",
        "ax.add_patch(bob)\n",
        "\n",
        "# For small angle approximation\n",
        "line_small, = ax.plot([], [], 'r--', lw=1)  # small angle solution\n",
        "bob_small = Circle((0, 0), 0.03, fc='r')   # small angle bob\n",
        "ax.add_patch(bob_small)\n",
        "\n",
        "# Add time display\n",
        "time_text = ax.text(0.02, 0.95, '', transform=ax.transAxes)\n",
        "\n",
        "# Initialization function\n",
        "def init():\n",
        "    line.set_data([], [])\n",
        "    bob.center = (0, 0)\n",
        "    line_small.set_data([], [])\n",
        "    bob_small.center = (0, 0)\n",
        "    time_text.set_text('')\n",
        "    return line, bob, line_small, bob_small, time_text\n",
        "\n",
        "# Animation update function\n",
        "def update(frame):\n",
        "    # Numerical solution\n",
        "    x_vals = [0, x[frame]]\n",
        "    y_vals = [0, y[frame]]\n",
        "    line.set_data(x_vals, y_vals)\n",
        "    bob.center = (x[frame], y[frame])\n",
        "\n",
        "    # Small angle solution\n",
        "    x_small_vals = [0, x_small[frame]]\n",
        "    y_small_vals = [0, y_small[frame]]\n",
        "    line_small.set_data(x_small_vals, y_small_vals)\n",
        "    bob_small.center = (x_small[frame], y_small[frame])\n",
        "\n",
        "    # Update time display\n",
        "    time_text.set_text(f'Time = {time[frame]:.2f} s')\n",
        "\n",
        "    return line, bob, line_small, bob_small, time_text\n",
        "\n",
        "# Create animation\n",
        "ani = FuncAnimation(fig, update, frames=len(time),\n",
        "                    init_func=init, blit=True, interval=dt*1000)\n",
        "\n",
        "plt.title('Simple Pendulum Motion\\nBlue: Numerical Solution | Red: Small Angle Approximation')\n",
        "plt.xlabel('x position (m)')\n",
        "plt.ylabel('y position (m)')\n",
        "# plt.show()\n",
        "\n",
        "# To save the animation (uncomment if needed)\n",
        "ani.save('pendulum.mp4', writer='ffmpeg', fps=30)"
      ]
    },
    {
      "cell_type": "code",
      "execution_count": null,
      "metadata": {
        "id": "kq3dQHl-fSWj"
      },
      "outputs": [],
      "source": [
        "# prompt: to show the animation within jupyter notebook create the code\n",
        "\n",
        "from IPython.display import HTML\n",
        "\n",
        "# Create animation\n",
        "ani = FuncAnimation(fig, update, frames=len(time),\n",
        "                    init_func=init, blit=True, interval=dt*1000)\n",
        "\n",
        "plt.title('Simple Pendulum Motion\\nBlue: Numerical Solution | Red: Small Angle Approximation')\n",
        "plt.xlabel('x position (m)')\n",
        "plt.ylabel('y position (m)')\n",
        "# Don't call plt.show() here if you want to display in notebook using HTML\n",
        "\n",
        "# To display the animation directly in the notebook\n",
        "HTML(ani.to_jshtml())"
      ]
    },
    {
      "cell_type": "code",
      "source": [
        "!ls -lh"
      ],
      "metadata": {
        "id": "DEQVXipctyq8",
        "outputId": "75e8c999-c525-437b-a8ad-9b1051766fe6",
        "colab": {
          "base_uri": "https://localhost:8080/"
        }
      },
      "execution_count": 21,
      "outputs": [
        {
          "output_type": "stream",
          "name": "stdout",
          "text": [
            "total 464K\n",
            "-rw-r--r-- 1 root root 457K Aug  5 14:52 pendulum.mp4\n",
            "drwxr-xr-x 1 root root 4.0K Jul 29 13:36 sample_data\n"
          ]
        }
      ]
    }
  ],
  "metadata": {
    "colab": {
      "provenance": []
    },
    "kernelspec": {
      "display_name": "Python 3",
      "name": "python3"
    },
    "language_info": {
      "name": "python"
    }
  },
  "nbformat": 4,
  "nbformat_minor": 0
}