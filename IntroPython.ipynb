{
 "cells": [
  {
   "cell_type": "markdown",
   "metadata": {},
   "source": [
    "## Python Libraries"
   ]
  },
  {
   "cell_type": "markdown",
   "metadata": {},
   "source": [
    "Python has an abundance of additional libraries to augument the base framework. You can think of libraries as collections of functions that can be accessed to complete certain programming tasks\n",
    "\n",
    "Today, we will focus on the following libraries:\n",
    "* Numpy is a library for working with arrays of data\n",
    "* Scipy is a library of techniques for numerical and scientific computing\n",
    "* Matplotlib is a library for making graphs\n",
    "* Seaborn is a higher-level interface to Matplotlib that can be used simplify many tasks"
   ]
  },
  {
   "cell_type": "markdown",
   "metadata": {},
   "source": [
    "### Importing Libraries\n",
    "\n",
    "When using Python, you must always begin your script by importing the libraries that you will be using.\n",
    "\n",
    "Below, we import the numpy and matplotlib libraries and give them abbreviated names:"
   ]
  },
  {
   "cell_type": "code",
   "execution_count": 1,
   "metadata": {},
   "outputs": [],
   "source": [
    "import numpy as np\n",
    "from scipy import stats\n",
    "import matplotlib.pyplot as plt\n",
    "import seaborn as sns"
   ]
  },
  {
   "cell_type": "markdown",
   "metadata": {},
   "source": [
    "After importing a library, its functions can then be called from your code by prepending the library name to the function name"
   ]
  },
  {
   "cell_type": "markdown",
   "metadata": {},
   "source": [
    "### Numpy"
   ]
  },
  {
   "cell_type": "markdown",
   "metadata": {},
   "source": [
    "NumPy is the fundamental package for scientific computing with Python. Today, we will focus on the numpy array object"
   ]
  },
  {
   "cell_type": "code",
   "execution_count": 2,
   "metadata": {},
   "outputs": [
    {
     "name": "stdout",
     "output_type": "stream",
     "text": [
      "[1 2 3]\n",
      "<class 'numpy.ndarray'>\n",
      "(3,)\n",
      "1\n",
      "3\n"
     ]
    }
   ],
   "source": [
    "## make a 3x1 numpy array\n",
    "a = np.array([1, 2, 3])\n",
    "\n",
    "## print it out\n",
    "print(a)\n",
    "\n",
    "## print object type\n",
    "print(type(a))\n",
    "\n",
    "## print shape\n",
    "print(a.shape)\n",
    "\n",
    "## print some values\n",
    "print(a[0])\n",
    "print(a[2])"
   ]
  },
  {
   "cell_type": "code",
   "execution_count": 3,
   "metadata": {},
   "outputs": [
    {
     "name": "stdout",
     "output_type": "stream",
     "text": [
      "[[1 2]\n",
      " [3 4]]\n",
      "(2, 2)\n",
      "1\n",
      "3\n"
     ]
    }
   ],
   "source": [
    "## make a 2x2 numpy array\n",
    "b = np.array([[1, 2], [3, 4]])\n",
    "\n",
    "## print it out\n",
    "print(b)\n",
    "\n",
    "## print out shape\n",
    "print(b.shape)\n",
    "\n",
    "## print row 1, column 1\n",
    "print(b[0,0])\n",
    "\n",
    "## print row 2, column 1\n",
    "print(b[1, 0])"
   ]
  },
  {
   "cell_type": "code",
   "execution_count": 30,
   "metadata": {},
   "outputs": [
    {
     "name": "stdout",
     "output_type": "stream",
     "text": [
      "[[0. 0. 0.]\n",
      " [0. 0. 0.]]\n",
      "(2, 3)\n"
     ]
    }
   ],
   "source": [
    "## make a 2x3 zero array\n",
    "c = np.zeros((2,3))\n",
    "\n",
    "## print out c\n",
    "print(c)\n",
    "\n",
    "## print out shape\n",
    "print(c.shape)"
   ]
  },
  {
   "cell_type": "code",
   "execution_count": 31,
   "metadata": {},
   "outputs": [
    {
     "name": "stdout",
     "output_type": "stream",
     "text": [
      "[[1. 1.]\n",
      " [1. 1.]\n",
      " [1. 1.]\n",
      " [1. 1.]\n",
      " [1. 1.]]\n",
      "1.0\n",
      "[[1. 1.]\n",
      " [1. 1.]\n",
      " [1. 1.]\n",
      " [1. 1.]\n",
      " [1. 1.]]\n",
      "[[2. 2.]\n",
      " [2. 2.]\n",
      " [2. 2.]\n",
      " [2. 2.]\n",
      " [2. 2.]]\n",
      "[[2. 2.]\n",
      " [2. 2.]\n",
      " [2. 2.]\n",
      " [2. 2.]\n",
      " [2. 2.]]\n"
     ]
    }
   ],
   "source": [
    "## make a 5x2 array of ones\n",
    "d =  np.ones((5,2))\n",
    "\n",
    "## print out d\n",
    "print(d)\n",
    "\n",
    "## print out row 3, column 2\n",
    "print(d[2, 1])\n",
    "\n",
    "## create a pointer to d called e\n",
    "e = d\n",
    "\n",
    "## print out e\n",
    "print(e)\n",
    "\n",
    "## multiple e by 2 and print out\n",
    "e *= 2\n",
    "print(e)\n",
    "\n",
    "## print out d\n",
    "print(d)"
   ]
  },
  {
   "cell_type": "code",
   "execution_count": 32,
   "metadata": {},
   "outputs": [
    {
     "name": "stdout",
     "output_type": "stream",
     "text": [
      "[[0.4316421  0.98095428 0.00698119 0.80737813]\n",
      " [0.10656094 0.16119394 0.2781113  0.22262403]\n",
      " [0.73802427 0.86547487 0.70802359 0.97423947]\n",
      " [0.59576736 0.30872335 0.75233471 0.63729962]\n",
      " [0.93205787 0.25128664 0.34488263 0.2247034 ]\n",
      " [0.94167886 0.79643922 0.55025422 0.77879535]\n",
      " [0.12653006 0.44882565 0.05713505 0.49306276]]\n"
     ]
    },
    {
     "data": {
      "text/plain": [
       "0.518606602699112"
      ]
     },
     "execution_count": 32,
     "metadata": {},
     "output_type": "execute_result"
    }
   ],
   "source": [
    "## create a 7x4 random array\n",
    "f = np.random.random((7,4))\n",
    "\n",
    "## print out f\n",
    "print(f)\n",
    "\n",
    "## find the mean of f\n",
    "np.mean(f)"
   ]
  },
  {
   "cell_type": "markdown",
   "metadata": {},
   "source": [
    "#### Array Indexing"
   ]
  },
  {
   "cell_type": "code",
   "execution_count": 33,
   "metadata": {},
   "outputs": [
    {
     "name": "stdout",
     "output_type": "stream",
     "text": [
      "[[ 1  2  3  4]\n",
      " [ 5  6  7  8]\n",
      " [ 9 10 11 12]]\n",
      "[[2 3]\n",
      " [6 7]]\n"
     ]
    }
   ],
   "source": [
    "## make a 3x4 array\n",
    "g = np.array([[1, 2, 3, 4], [5, 6, 7, 8], [9, 10, 11, 12]])\n",
    "\n",
    "## print out g\n",
    "print(g)\n",
    "\n",
    "## Slice array to make a 2x2 sub-array called h\n",
    "h = g[:2, 1:3]\n",
    "\n",
    "## print h\n",
    "print(h)"
   ]
  },
  {
   "cell_type": "markdown",
   "metadata": {},
   "source": [
    "#### Array Math\n",
    "\n",
    "Basic mathematical functions operate elementwise on arrays"
   ]
  },
  {
   "cell_type": "code",
   "execution_count": 34,
   "metadata": {},
   "outputs": [
    {
     "name": "stdout",
     "output_type": "stream",
     "text": [
      "[[ 6  8]\n",
      " [10 12]]\n",
      "[[ 6  8]\n",
      " [10 12]]\n",
      "[[-4 -4]\n",
      " [-4 -4]]\n",
      "[[-4 -4]\n",
      " [-4 -4]]\n",
      "[[ 5 12]\n",
      " [21 32]]\n",
      "[[ 5 12]\n",
      " [21 32]]\n",
      "[[0.2        0.33333333]\n",
      " [0.42857143 0.5       ]]\n",
      "[[0.2        0.33333333]\n",
      " [0.42857143 0.5       ]]\n",
      "[[1.         1.41421356]\n",
      " [1.73205081 2.        ]]\n"
     ]
    }
   ],
   "source": [
    "x = np.array([[1,2],[3,4]])\n",
    "y = np.array([[5,6], [7,8]])\n",
    "\n",
    "## Add x and y\n",
    "print(x+y)\n",
    "print(np.add(x,y))\n",
    "\n",
    "## Subtract x and y\n",
    "print(x-y)\n",
    "print(np.subtract(x,y))\n",
    "\n",
    "## elementwise product of x and y\n",
    "print(x*y)\n",
    "print(np.multiply(x,y))\n",
    "\n",
    "## elementwise division of x and y\n",
    "print(x / y)\n",
    "print(np.divide(x,y))\n",
    "\n",
    "## elementwise square root of x\n",
    "print(np.sqrt(x))"
   ]
  },
  {
   "cell_type": "code",
   "execution_count": 35,
   "metadata": {},
   "outputs": [
    {
     "name": "stdout",
     "output_type": "stream",
     "text": [
      "10\n",
      "[4 6]\n",
      "[3 7]\n"
     ]
    }
   ],
   "source": [
    "## Compute sum of all elements in x\n",
    "print(np.sum(x))\n",
    "\n",
    "## Compute sum of each column.\n",
    "## axis = 0 will collaspe the rows\n",
    "print(np.sum(x, axis = 0))\n",
    "\n",
    "## Compute sume of each row\n",
    "## axis = 1 will collaspe the columns\n",
    "print(np.sum(x, axis = 1))"
   ]
  },
  {
   "cell_type": "code",
   "execution_count": 36,
   "metadata": {},
   "outputs": [
    {
     "name": "stdout",
     "output_type": "stream",
     "text": [
      "2.5\n",
      "[2. 3.]\n",
      "[1.5 3.5]\n"
     ]
    }
   ],
   "source": [
    "## Compute mean of all elements in x\n",
    "print(np.mean(x))\n",
    "\n",
    "## Compute mean of each column of x\n",
    "print(np.mean(x, axis = 0))\n",
    "\n",
    "## Compute mean of each row of x\n",
    "print(np.mean(x, axis = 1))"
   ]
  },
  {
   "cell_type": "markdown",
   "metadata": {},
   "source": [
    "### SciPy\n",
    "\n",
    "Numpy provides a high-performance multidimensional array and basic tools to compute with and manipulate these arrays. SciPy builds on this, and provides a large number of functions that operate on numpy arrays and are useful for different types of scientific and engineering applications.\n",
    "\n",
    "We will primariyl be using the **SciPy.Stats** sub-library.\n",
    "\n",
    "The SciPy.Stats module contains a large number of probability distributions as well as a growing library of statistical functions such as:\n",
    "\n",
    "* Continuous and Discrete Distributions (i.e Normal, Uniform, Binomial, etc.)\n",
    "\n",
    "* Descriptive Statistcs\n",
    "\n",
    "* Statistical Tests (i.e T-Test)"
   ]
  },
  {
   "cell_type": "code",
   "execution_count": 3,
   "metadata": {},
   "outputs": [
    {
     "name": "stdout",
     "output_type": "stream",
     "text": [
      "[-0.80091589  0.92994126  1.08762994 -0.71108246  0.10209344 -1.06233051\n",
      " -1.80012216 -0.41600997  0.40507052 -0.98645866]\n"
     ]
    }
   ],
   "source": [
    "## Print Normal Random Variables\n",
    "print(stats.norm.rvs(size = 10))"
   ]
  },
  {
   "cell_type": "code",
   "execution_count": 4,
   "metadata": {},
   "outputs": [
    {
     "name": "stdout",
     "output_type": "stream",
     "text": [
      "[9.86587645e-10 1.34989803e-03 2.27501319e-02 1.58655254e-01\n",
      " 5.00000000e-01 8.41344746e-01 9.77249868e-01 9.98650102e-01\n",
      " 9.99999999e-01]\n"
     ]
    }
   ],
   "source": [
    "## Computer the Normal CDF of certain values\n",
    "print(stats.norm.cdf(np.array([-6, -3, -2, -1, 0, 1, 2, 3, 6])))"
   ]
  },
  {
   "cell_type": "markdown",
   "metadata": {},
   "source": [
    "### Plotting with MatPlotLib and Seaborn"
   ]
  },
  {
   "cell_type": "markdown",
   "metadata": {},
   "source": [
    "Matplotlib is a plotting library. Seaborn is complimentary to Matplotlib and it specifically targets statistical data visualization. But it goes even further than that: Seaborn extends Matplotlib and makes generating visualizations convenient."
   ]
  },
  {
   "cell_type": "code",
   "execution_count": 39,
   "metadata": {},
   "outputs": [
    {
     "data": {
      "image/png": "[encoded data removed]",
      "text/plain": [
       "<Figure size 432x288 with 1 Axes>"
      ]
     },
     "metadata": {
      "needs_background": "light"
     },
     "output_type": "display_data"
    }
   ],
   "source": [
    "## Compute the x and y coordinates for points on the line y = 2*x + 1\n",
    "## arange returns evenly spaced values within a given interval: numpy.arange(start, stop, step)\n",
    "x = np.arange(-10, 10, .1)\n",
    "y = 2*x + 1\n",
    "\n",
    "## Plot the points using matplotlib\n",
    "plt.plot(x, y)\n",
    "plt.show() # You must call plt.show() to make the plot appear"
   ]
  },
  {
   "cell_type": "code",
   "execution_count": 50,
   "metadata": {},
   "outputs": [
    {
     "name": "stdout",
     "output_type": "stream",
     "text": [
      "[-0.40405779 -0.36958495 -0.87522652 -0.57174023 -0.72796402  0.80364493\n",
      " -1.38316762 -0.83622488 -0.46539354 -1.14566702]\n"
     ]
    },
    {
     "data": {
      "image/png": "[encoded data removed]",
      "text/plain": [
       "<Figure size 432x288 with 1 Axes>"
      ]
     },
     "metadata": {
      "needs_background": "light"
     },
     "output_type": "display_data"
    }
   ],
   "source": [
    "## Generate 1000 random samples from the standard normal distribution\n",
    "x = np.random.standard_normal(1000)\n",
    "\n",
    "## print out the first 10 samples\n",
    "print(x[:10])\n",
    "\n",
    "## Plot the distribution of samples and add title\n",
    "sns.distplot(x)\n",
    "plt.title(\"Samples from the Standard Normal\")\n",
    "plt.show()"
   ]
  },
  {
   "cell_type": "markdown",
   "metadata": {},
   "source": [
    "## Belief Updating: From Priors to Posteriors"
   ]
  },
  {
   "cell_type": "markdown",
   "metadata": {},
   "source": [
    "### The Nashville History Test\n",
    "\n",
    "Imagine that you create a test that consists of 10 factual (true / false) questions about the history of Nashville.\n",
    "\n",
    "The test is meant to measure a person’s general knowledge about Nashville history.\n",
    "\n",
    "You plan to give the test to a friend who is visiting from out of town. Your friend has never been to Nashville and doesn’t really care about history.\n",
    "\n",
    "### Measuring Knowledge\n",
    "\n",
    "Your goal is to estimate your friend’s knowledge, which we define as the rate theta with which he or she answers questions correctly.\n",
    "\n",
    "The rate theta is a number between 0 and 1.\n",
    "\n",
    "What is your guess about theta before giving your friend the test?"
   ]
  },
  {
   "cell_type": "code",
   "execution_count": 59,
   "metadata": {},
   "outputs": [
    {
     "data": {
      "image/png": "[encoded data removed]",
      "text/plain": [
       "<Figure size 432x288 with 1 Axes>"
      ]
     },
     "metadata": {
      "needs_background": "light"
     },
     "output_type": "display_data"
    }
   ],
   "source": [
    "## Create a function that represents your prior beliefs about the value of theta.\n",
    "## Since theta is between 0 and 1, we will use the beta distribution\n",
    "def prior(theta):\n",
    "    return stats.beta.pdf(theta, 5, 5)\n",
    "\n",
    "## Plot the prior distribution for theta between 0 and 1\n",
    "x = np.arange(0,1,.01)\n",
    "plt.plot(x,prior(x))\n",
    "plt.title(\"Prior\")\n",
    "plt.xlabel(\"Theta\")\n",
    "plt.show()"
   ]
  },
  {
   "cell_type": "markdown",
   "metadata": {},
   "source": [
    "### The Data and Likelihood"
   ]
  },
  {
   "cell_type": "markdown",
   "metadata": {},
   "source": [
    "Suppose your friend answers 8 out of 10 questions correctly.\n",
    "\n",
    "Now what do you think about your friend's knowledge of Nashville history (i.e., theta)?\n",
    "\n",
    "To answer this question, we need to know the probability of seeing these test results given different values of theta. This is the likelihood."
   ]
  },
  {
   "cell_type": "code",
   "execution_count": 64,
   "metadata": {},
   "outputs": [
    {
     "data": {
      "image/png": "[encoded data removed]",
      "text/plain": [
       "<Figure size 432x288 with 1 Axes>"
      ]
     },
     "metadata": {
      "needs_background": "light"
     },
     "output_type": "display_data"
    }
   ],
   "source": [
    "## Create a function for the likelihood.\n",
    "## Here we can use the binomial distribution\n",
    "def likelihood(theta):\n",
    "    return stats.binom.pmf(8, 10, theta)\n",
    "\n",
    "## Plot the likelihood distribution for theta between 0 and 1\n",
    "plt.plot(x,likelihood(x))\n",
    "plt.title(\"Likelihood\")\n",
    "plt.xlabel(\"Theta\")\n",
    "plt.show()"
   ]
  },
  {
   "cell_type": "markdown",
   "metadata": {},
   "source": [
    "### The Posterior\n",
    "\n",
    "Now that you know your friend got 8 out of 10 questions correct, what do you think about your friend’s knowledge of Nashville history (i.e., theta)? \n"
   ]
  },
  {
   "cell_type": "code",
   "execution_count": 66,
   "metadata": {},
   "outputs": [
    {
     "data": {
      "image/png": "[encoded data removed]",
      "text/plain": [
       "<Figure size 432x288 with 1 Axes>"
      ]
     },
     "metadata": {
      "needs_background": "light"
     },
     "output_type": "display_data"
    }
   ],
   "source": [
    "## Create the posterior from the prior and likelihood\n",
    "def posterior(theta):\n",
    "    return prior(theta)*likelihood(theta)\n",
    "\n",
    "## Plot the posterior distribution for theta between 0 and 1\n",
    "plt.plot(x,posterior(x))\n",
    "plt.title(\"Posterior\")\n",
    "plt.xlabel(\"Theta\")\n",
    "plt.show()"
   ]
  },
  {
   "cell_type": "markdown",
   "metadata": {},
   "source": [
    "### What if we change the number of questions on the test?\n",
    "\n",
    "Now, suppose that instead of 10 questions, your test only has 5 questions and your friend gets 4 out of 5 correct. What do you observe?\n",
    "\n",
    "Suppose your test has 100 questions and your friend gets 80 out of 100 correct. What do you observe?"
   ]
  },
  {
   "cell_type": "code",
   "execution_count": 69,
   "metadata": {},
   "outputs": [
    {
     "data": {
      "image/png": "[encoded data removed]",
      "text/plain": [
       "<Figure size 432x288 with 1 Axes>"
      ]
     },
     "metadata": {
      "needs_background": "light"
     },
     "output_type": "display_data"
    },
    {
     "data": {
      "image/png": "[encoded data removed]",
      "text/plain": [
       "<Figure size 432x288 with 1 Axes>"
      ]
     },
     "metadata": {
      "needs_background": "light"
     },
     "output_type": "display_data"
    }
   ],
   "source": [
    "## Create a new function for the likelihood that takes three inputs\n",
    "def likelihood(k,n,theta):\n",
    "    return stats.binom.pmf(k, n, theta)\n",
    "\n",
    "## Create the new function for the posterior that takes three inputs\n",
    "def posterior(k, n, theta):\n",
    "    return prior(theta)*likelihood(k, n, theta)\n",
    "\n",
    "## Plot the the new posterior distribution for k = 4, n = 5, and theta between 0 and 1\n",
    "plt.plot(x,posterior(4, 5, x))\n",
    "plt.title(\"Posterior\")\n",
    "plt.xlabel(\"Theta\")\n",
    "plt.show()\n",
    "\n",
    "## Plot the the new posterior distribution for k = 80, n = 100, and theta between 0 and 1\n",
    "plt.plot(x,posterior(80, 100, x))\n",
    "plt.title(\"Posterior\")\n",
    "plt.xlabel(\"Theta\")\n",
    "plt.show()"
   ]
  },
  {
   "cell_type": "markdown",
   "metadata": {},
   "source": [
    "### Stranger instead of Friend\n",
    "\n",
    "What if instead of giving your test with 10 questions to a friend you give it to a randomly selected stranger living in Nashville?\n",
    "\n",
    "What are your beliefs about theta before giving the stranger the test?\n",
    "\n",
    "Suppose the stranger also gets 8 out of 10 questions correct. Now what is your belief about theta?\n"
   ]
  },
  {
   "cell_type": "code",
   "execution_count": 72,
   "metadata": {},
   "outputs": [
    {
     "data": {
      "image/png": "[encoded data removed]",
      "text/plain": [
       "<Figure size 432x288 with 1 Axes>"
      ]
     },
     "metadata": {
      "needs_background": "light"
     },
     "output_type": "display_data"
    },
    {
     "data": {
      "image/png": "[encoded data removed]",
      "text/plain": [
       "<Figure size 432x288 with 1 Axes>"
      ]
     },
     "metadata": {
      "needs_background": "light"
     },
     "output_type": "display_data"
    }
   ],
   "source": [
    "## Create a new prior function that takes three inputs: theta, a, b\n",
    "def prior(theta, a, b):\n",
    "    return stats.beta.pdf(theta, a, b)\n",
    "\n",
    "## Plot the prior distribution for theta between 0 and 1, a=b=1\n",
    "x = np.arange(0,1,.01)\n",
    "plt.plot(x,prior(x, 1, 1))\n",
    "plt.title(\"Prior\")\n",
    "plt.xlabel(\"Theta\")\n",
    "plt.show()\n",
    "\n",
    "## Create the new function for the posterior that takes five inputs: theta, a, b, k, n\n",
    "def posterior(k, n, theta, a, b):\n",
    "    return prior(theta, a, b)*likelihood(k, n, theta)\n",
    "\n",
    "## Plot the new posterior distribution for k = 8, n = 10, a=b=1, and theta between 0 and 1\n",
    "plt.plot(x,posterior(8, 10, x, 1, 1))\n",
    "plt.title(\"Posterior\")\n",
    "plt.xlabel(\"Theta\")\n",
    "plt.show()"
   ]
  },
  {
   "cell_type": "code",
   "execution_count": null,
   "metadata": {},
   "outputs": [],
   "source": []
  }
 ],
 "metadata": {
  "kernelspec": {
   "display_name": "Python 3",
   "language": "python",
   "name": "python3"
  },
  "language_info": {
   "codemirror_mode": {
    "name": "ipython",
    "version": 3
   },
   "file_extension": ".py",
   "mimetype": "text/x-python",
   "name": "python",
   "nbconvert_exporter": "python",
   "pygments_lexer": "ipython3",
   "version": "3.8.10"
  }
 },
 "nbformat": 4,
 "nbformat_minor": 2
}
