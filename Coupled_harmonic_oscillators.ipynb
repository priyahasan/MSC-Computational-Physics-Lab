{
 "cells": [
  {
   "cell_type": "markdown",
   "id": "943b9255",
   "metadata": {},
   "source": [
    "# Simulation: Coupled Harmonic Oscillators\n",
    "This notebook simulates the motion of two coupled harmonic oscillators using numerical integration (Runge-Kutta method).\n",
    "We assume unit mass and spring constants for simplicity.\n"
   ]
  },
  {
   "cell_type": "code",
   "execution_count": null,
   "id": "46032e79",
   "metadata": {},
   "outputs": [],
   "source": [
    "import numpy as np\n",
    "import matplotlib.pyplot as plt\n",
    "from scipy.integrate import solve_ivp\n",
    "\n",
    "%matplotlib inline\n"
   ]
  },
  {
   "cell_type": "markdown",
   "id": "eaaa8d57",
   "metadata": {},
   "source": [
    "## Define the Equations of Motion"
   ]
  },
  {
   "cell_type": "code",
   "execution_count": null,
   "id": "c903e6c4",
   "metadata": {},
   "outputs": [],
   "source": [
    "# Constants\n",
    "k = 1.0     # Spring constant\n",
    "kc = 0.5    # Coupling constant\n",
    "m = 1.0     # Mass\n",
    "\n",
    "# Equations of motion\n",
    "def coupled_oscillators(t, y):\n",
    "    x1, v1, x2, v2 = y\n",
    "    dx1dt = v1\n",
    "    dv1dt = -(k * x1 + kc * (x1 - x2)) / m\n",
    "    dx2dt = v2\n",
    "    dv2dt = -(k * x2 + kc * (x2 - x1)) / m\n",
    "    return [dx1dt, dv1dt, dx2dt, dv2dt]\n"
   ]
  },
  {
   "cell_type": "markdown",
   "id": "22a1d05e",
   "metadata": {},
   "source": [
    "## Set Initial Conditions and Solve"
   ]
  },
  {
   "cell_type": "code",
   "execution_count": null,
   "id": "e94325dd",
   "metadata": {},
   "outputs": [],
   "source": [
    "# Initial conditions: [x1, v1, x2, v2]\n",
    "y0 = [1.0, 0.0, -1.0, 0.0]\n",
    "\n",
    "# Time span\n",
    "t_span = (0, 50)\n",
    "t_eval = np.linspace(*t_span, 1000)\n",
    "\n",
    "# Solve ODE\n",
    "sol = solve_ivp(coupled_oscillators, t_span, y0, t_eval=t_eval)\n"
   ]
  },
  {
   "cell_type": "markdown",
   "id": "77268e16",
   "metadata": {},
   "source": [
    "## Plot the Results"
   ]
  },
  {
   "cell_type": "code",
   "execution_count": null,
   "id": "24e15923",
   "metadata": {},
   "outputs": [],
   "source": [
    "plt.figure(figsize=(10,5))\n",
    "plt.plot(sol.t, sol.y[0], label='x1 (Oscillator 1)')\n",
    "plt.plot(sol.t, sol.y[2], label='x2 (Oscillator 2)')\n",
    "plt.xlabel('Time')\n",
    "plt.ylabel('Displacement')\n",
    "plt.title('Coupled Harmonic Oscillators')\n",
    "plt.legend()\n",
    "plt.grid(True)\n",
    "plt.show()\n"
   ]
  }
 ],
 "metadata": {},
 "nbformat": 4,
 "nbformat_minor": 5
}
