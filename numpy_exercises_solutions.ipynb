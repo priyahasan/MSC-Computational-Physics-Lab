{
  "cells": [
    {
      "cell_type": "markdown",
      "metadata": {
        "id": "OQqDmadsz7Bs"
      },
      "source": [
        "#NumPy Exercises\n",
        "\n",
        "Exercise 1: Create a Chessboard Matrix\n",
        "Task:\n",
        "Create an 8×8 matrix representing a chessboard (1s and 0s alternating).\n",
        "\n",
        "Exercise 2: Mandelbrot Set Computation\n",
        "Task:\n",
        "Generate a Mandelbrot set image using NumPy arrays and complex numbers over a grid of complex values.\n",
        "\n",
        "Exercise 3: Moving Average Using Strides\n",
        "Task:\n",
        "Write a function using np.lib.stride_tricks.sliding_window_view() to compute a moving average over a 1D array of size n with window size k.\n",
        "\n",
        "Exercise 4: Vectorize a Game of Life Step\n",
        "Task:\n",
        "Implement a single step of Conway’s Game of Life using NumPy's slicing and broadcasting (no Python loops).\n",
        "\n",
        "Exercise 5: Block-wise Matrix Transformation\n",
        "Task:\n",
        "Given a large 2D array, divide it into non-overlapping 4×4 blocks and compute the sum of each block efficiently.\n",
        "\n",
        "Exercise 6: Construct a Toeplitz Matrix Without Loop\n",
        "Task:\n",
        "Given a vector [a0, a1, a2, ..., an], construct a Toeplitz matrix using broadcasting and slicing.\n",
        "\n",
        "Exercise 7: Fast Pairwise Distance Matrix\n",
        "Task:\n",
        "Given a matrix X of shape (n, d), compute the Euclidean distance between all pairs of rows using only NumPy (no loops, no sklearn).\n",
        "\n",
        "Exercise 8: Random Walk Simulation\n",
        "Task:\n",
        "Simulate m independent 1D random walks each of length n, and compute how many of them return to the origin at least once.\n",
        "\n",
        "Exercise 9: Eigenvector Validation\n",
        "Task:\n",
        "Generate a symmetric matrix and use NumPy to find its eigenvalues and eigenvectors. Then validate the decomposition A @ v = λ * v.\n",
        "\n",
        "Exercise 10: Argmin with Condition Masking\n",
        "Task:\n",
        "Given a 2D array, write a function that returns the index of the minimum element per row that also satisfies a condition mask.\n",
        "\n"
      ],
      "id": "OQqDmadsz7Bs"
    },
    {
      "cell_type": "markdown",
      "metadata": {
        "id": "jgrtgexUz7Bv"
      },
      "source": [
        "## Exercise 1: Create a Chessboard Matrix"
      ],
      "id": "jgrtgexUz7Bv"
    },
    {
      "cell_type": "code",
      "execution_count": null,
      "metadata": {
        "solution": true,
        "id": "jA8oIwL2z7Bw"
      },
      "outputs": [],
      "source": [
        "import numpy as np\n",
        "chessboard = np.zeros((8, 8), dtype=int)\n",
        "chessboard[1::2, ::2] = 1\n",
        "chessboard[::2, 1::2] = 1\n",
        "chessboard"
      ],
      "id": "jA8oIwL2z7Bw"
    },
    {
      "cell_type": "markdown",
      "metadata": {
        "id": "G5HoOjZcz7Bx"
      },
      "source": [
        "## Exercise 2: Mandelbrot Set Computation"
      ],
      "id": "G5HoOjZcz7Bx"
    },
    {
      "cell_type": "code",
      "execution_count": null,
      "metadata": {
        "solution": true,
        "id": "weepKzIfz7By"
      },
      "outputs": [],
      "source": [
        "x = np.linspace(-2.0, 1.0, 1000)\n",
        "y = np.linspace(-1.5, 1.5, 1000)\n",
        "X, Y = np.meshgrid(x, y)\n",
        "C = X + 1j * Y\n",
        "Z = np.zeros_like(C)\n",
        "iterations = np.zeros(C.shape, dtype=int)\n",
        "for i in range(100):\n",
        "    mask = np.abs(Z) <= 2\n",
        "    Z[mask] = Z[mask] ** 2 + C[mask]\n",
        "    iterations[mask] += 1\n",
        "iterations"
      ],
      "id": "weepKzIfz7By"
    },
    {
      "cell_type": "markdown",
      "metadata": {
        "id": "iLFyscPVz7By"
      },
      "source": [
        "## Exercise 3: Moving Average Using Stride"
      ],
      "id": "iLFyscPVz7By"
    },
    {
      "cell_type": "code",
      "execution_count": null,
      "metadata": {
        "solution": true,
        "id": "pD9abAArz7By"
      },
      "outputs": [],
      "source": [
        "from numpy.lib.stride_tricks import sliding_window_view\n",
        "arr = np.arange(20)\n",
        "k = 5\n",
        "windows = sliding_window_view(arr, k)\n",
        "moving_avg = windows.mean(axis=1)\n",
        "moving_avg"
      ],
      "id": "pD9abAArz7By"
    },
    {
      "cell_type": "markdown",
      "metadata": {
        "id": "AvVC_SWBz7Bz"
      },
      "source": [
        "## Exercise 4: Game of Life Step (No Loops)"
      ],
      "id": "AvVC_SWBz7Bz"
    },
    {
      "cell_type": "code",
      "execution_count": null,
      "metadata": {
        "solution": true,
        "id": "hMe9mAOtz7Bz"
      },
      "outputs": [],
      "source": [
        "def game_of_life_step(board):\n",
        "    neighbors = sum(np.roll(np.roll(board, i, 0), j, 1)\n",
        "                    for i in (-1,0,1) for j in (-1,0,1)\n",
        "                    if (i,j) != (0,0))\n",
        "    return ((neighbors == 3) | ((board == 1) & (neighbors == 2))).astype(int)\n",
        "\n",
        "board = np.random.randint(2, size=(10, 10))\n",
        "next_board = game_of_life_step(board)\n",
        "next_board"
      ],
      "id": "hMe9mAOtz7Bz"
    },
    {
      "cell_type": "markdown",
      "metadata": {
        "id": "dQj-HrRDz7Bz"
      },
      "source": [
        "## Exercise 5: Block-wise 4x4 Sum"
      ],
      "id": "dQj-HrRDz7Bz"
    },
    {
      "cell_type": "code",
      "execution_count": null,
      "metadata": {
        "solution": true,
        "id": "Szs_YIIgz7B0"
      },
      "outputs": [],
      "source": [
        "A = np.random.randint(1, 10, (8, 8))\n",
        "block_sums = A.reshape(2, 4, 2, 4).sum(axis=(1, 3))\n",
        "block_sums"
      ],
      "id": "Szs_YIIgz7B0"
    },
    {
      "cell_type": "markdown",
      "metadata": {
        "id": "rTlULHwZz7B0"
      },
      "source": [
        "## Exercise 6: Toeplitz Matrix via Broadcasting"
      ],
      "id": "rTlULHwZz7B0"
    },
    {
      "cell_type": "code",
      "execution_count": null,
      "metadata": {
        "solution": true,
        "id": "gdyNY3Tiz7B0"
      },
      "outputs": [],
      "source": [
        "a = np.array([1, 2, 3, 4])\n",
        "i = np.arange(len(a))\n",
        "toeplitz = a[np.abs(i[:, None] - i[None, :])]\n",
        "toeplitz"
      ],
      "id": "gdyNY3Tiz7B0"
    },
    {
      "cell_type": "markdown",
      "metadata": {
        "id": "DXi7Jm8iz7B0"
      },
      "source": [
        "## Exercise 7: Fast Pairwise Distance Matrix"
      ],
      "id": "DXi7Jm8iz7B0"
    },
    {
      "cell_type": "code",
      "execution_count": null,
      "metadata": {
        "solution": true,
        "id": "DLDkRFA9z7B0"
      },
      "outputs": [],
      "source": [
        "X = np.random.rand(100, 5)\n",
        "dists = np.sqrt(((X[:, None, :] - X[None, :, :]) ** 2).sum(axis=2))\n",
        "dists"
      ],
      "id": "DLDkRFA9z7B0"
    },
    {
      "cell_type": "markdown",
      "metadata": {
        "id": "jTdtDXIcz7B1"
      },
      "source": [
        "## Exercise 8: Random Walks Returning to Origin"
      ],
      "id": "jTdtDXIcz7B1"
    },
    {
      "cell_type": "code",
      "execution_count": null,
      "metadata": {
        "solution": true,
        "id": "hShP9wEez7B1"
      },
      "outputs": [],
      "source": [
        "n, m = 100, 1000\n",
        "steps = np.random.choice([-1, 1], size=(m, n))\n",
        "positions = steps.cumsum(axis=1)\n",
        "returned = (positions == 0).any(axis=1)\n",
        "returned.sum()"
      ],
      "id": "hShP9wEez7B1"
    },
    {
      "cell_type": "markdown",
      "metadata": {
        "id": "VdPtxgGWz7B1"
      },
      "source": [
        "## Exercise 9: Eigenvector Validation"
      ],
      "id": "VdPtxgGWz7B1"
    },
    {
      "cell_type": "code",
      "execution_count": null,
      "metadata": {
        "solution": true,
        "id": "M4cOZaqCz7B1"
      },
      "outputs": [],
      "source": [
        "A = np.random.rand(5, 5)\n",
        "A = (A + A.T)/2  # make symmetric\n",
        "eigvals, eigvecs = np.linalg.eigh(A)\n",
        "valid = np.allclose(A @ eigvecs, eigvecs * eigvals)\n",
        "valid"
      ],
      "id": "M4cOZaqCz7B1"
    },
    {
      "cell_type": "markdown",
      "metadata": {
        "id": "lgNGN_kuz7B1"
      },
      "source": [
        "## Exercise 10: Argmin with Condition Mask"
      ],
      "id": "lgNGN_kuz7B1"
    },
    {
      "cell_type": "code",
      "execution_count": null,
      "metadata": {
        "solution": true,
        "id": "ohy6itc1z7B1"
      },
      "outputs": [],
      "source": [
        "arr = np.random.randint(0, 100, (5, 10))\n",
        "mask = arr % 2 == 0  # find min even number per row\n",
        "masked = np.where(mask, arr, np.inf)\n",
        "indices = masked.argmin(axis=1)\n",
        "indices"
      ],
      "id": "ohy6itc1z7B1"
    }
  ],
  "metadata": {
    "kernelspec": {
      "display_name": "Python 3",
      "language": "python",
      "name": "python3"
    },
    "language_info": {
      "name": "python"
    },
    "colab": {
      "provenance": []
    }
  },
  "nbformat": 4,
  "nbformat_minor": 5
}